{
 "cells": [
  {
   "cell_type": "code",
   "execution_count": 1,
   "id": "blessed-patrick",
   "metadata": {},
   "outputs": [],
   "source": [
    "# import libraries\n",
    "\n",
    "import cv2"
   ]
  },
  {
   "cell_type": "code",
   "execution_count": 2,
   "id": "fleet-ordering",
   "metadata": {},
   "outputs": [],
   "source": [
    "def bw_video():\n",
    "    # reading the video \n",
    "    cap = cv2.VideoCapture(0) \n",
    "\n",
    "    # running the loop \n",
    "    while True: \n",
    "\n",
    "        # extracting the frames \n",
    "        ret, frame = cap.read() \n",
    "\n",
    "        # converting to gray-scale \n",
    "        gray = cv2.cvtColor(frame, cv2.COLOR_BGR2GRAY) \n",
    "\n",
    "        # displaying the video \n",
    "        cv2.imshow(\"Live\", gray) \n",
    "\n",
    "        # exiting the loop \n",
    "        key = cv2.waitKey(1) \n",
    "        if key == ord(\"q\"): \n",
    "            break\n",
    "\n",
    "    # closing the window \n",
    "    cv2.destroyAllWindows() \n",
    "    cap.release()"
   ]
  },
  {
   "cell_type": "code",
   "execution_count": 3,
   "id": "collaborative-president",
   "metadata": {},
   "outputs": [],
   "source": [
    "bw_video()"
   ]
  }
 ],
 "metadata": {
  "kernelspec": {
   "display_name": "Python 3",
   "language": "python",
   "name": "python3"
  },
  "language_info": {
   "codemirror_mode": {
    "name": "ipython",
    "version": 3
   },
   "file_extension": ".py",
   "mimetype": "text/x-python",
   "name": "python",
   "nbconvert_exporter": "python",
   "pygments_lexer": "ipython3",
   "version": "3.8.8"
  }
 },
 "nbformat": 4,
 "nbformat_minor": 5
}
