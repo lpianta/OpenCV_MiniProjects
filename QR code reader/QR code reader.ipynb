{
 "cells": [
  {
   "cell_type": "code",
   "execution_count": 1,
   "id": "spread-register",
   "metadata": {},
   "outputs": [],
   "source": [
    "# import libraries\n",
    "\n",
    "import cv2\n",
    "import matplotlib.pyplot as plt"
   ]
  },
  {
   "cell_type": "code",
   "execution_count": 4,
   "id": "intelligent-empty",
   "metadata": {},
   "outputs": [
    {
     "name": "stdout",
     "output_type": "stream",
     "text": [
      "It's sad to be a testing QR Code\n",
      "[[[ 12.  12.]\n",
      "  [186.  12.]\n",
      "  [186. 186.]\n",
      "  [ 12. 186.]]]\n"
     ]
    },
    {
     "data": {
      "image/png": "[encoded data removed]",
      "text/plain": [
       "<Figure size 432x288 with 1 Axes>"
      ]
     },
     "metadata": {
      "needs_background": "light"
     },
     "output_type": "display_data"
    }
   ],
   "source": [
    "# load the image\n",
    "image = cv2.imread('./img/qr-code.png')\n",
    "\n",
    "# create qrCodeDetector object\n",
    "qrCodeDetector = cv2.QRCodeDetector()\n",
    "\n",
    "# apply detectAndDecode to the image, it returns 3 value: the data stored in the code, the bounding box and the image of the code\n",
    "data, bbox, rectifiedimmage = qrCodeDetector.detectAndDecode(image)\n",
    "\n",
    "# show the code and the data stored\n",
    "plt.imshow(rectifiedimmage, cmap='gray')\n",
    "print(data)"
   ]
  }
 ],
 "metadata": {
  "kernelspec": {
   "display_name": "Python 3",
   "language": "python",
   "name": "python3"
  },
  "language_info": {
   "codemirror_mode": {
    "name": "ipython",
    "version": 3
   },
   "file_extension": ".py",
   "mimetype": "text/x-python",
   "name": "python",
   "nbconvert_exporter": "python",
   "pygments_lexer": "ipython3",
   "version": "3.8.8"
  }
 },
 "nbformat": 4,
 "nbformat_minor": 5
}
