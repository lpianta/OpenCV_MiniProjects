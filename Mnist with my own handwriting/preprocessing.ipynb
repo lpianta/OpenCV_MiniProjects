{
 "cells": [
  {
   "cell_type": "code",
   "execution_count": 17,
   "id": "extra-motion",
   "metadata": {},
   "outputs": [],
   "source": [
    "import cv2\n",
    "import matplotlib.pyplot as plt\n",
    "import numpy as np"
   ]
  },
  {
   "cell_type": "code",
   "execution_count": 52,
   "id": "consolidated-diagnosis",
   "metadata": {},
   "outputs": [],
   "source": [
    "path = './img/'\n",
    "\n",
    "zero = cv2.imread(path + '0.jpg', cv2.IMREAD_GRAYSCALE)\n",
    "one = cv2.imread(path + '1.jpg', cv2.IMREAD_GRAYSCALE)\n",
    "two = cv2.imread(path + '2.jpg', cv2.IMREAD_GRAYSCALE)\n",
    "three = cv2.imread(path + '3.jpg', cv2.IMREAD_GRAYSCALE)\n",
    "four = cv2.imread(path + '4.jpg', cv2.IMREAD_GRAYSCALE)\n",
    "five = cv2.imread(path + '5.jpg', cv2.IMREAD_GRAYSCALE)\n",
    "six = cv2.imread(path + '6.jpg', cv2.IMREAD_GRAYSCALE)\n",
    "seven = cv2.imread(path + '7.jpg', cv2.IMREAD_GRAYSCALE)\n",
    "eight = cv2.imread(path + '8.jpg', cv2.IMREAD_GRAYSCALE)\n",
    "nine = cv2.imread(path + '9.jpg', cv2.IMREAD_GRAYSCALE)\n",
    "\n"
   ]
  },
  {
   "cell_type": "code",
   "execution_count": 54,
   "id": "collective-passage",
   "metadata": {},
   "outputs": [],
   "source": [
    "def mnist_size(img):\n",
    "    kernel = np.ones((50,50), dtype='uint8')\n",
    "    ret, img_thresh = cv2.threshold(img, 127, 155, cv2.THRESH_BINARY_INV)\n",
    "    img_dilate = cv2.dilate(img_thresh, kernel)\n",
    "    img_resized = cv2.resize(img_dilate, (20,20))\n",
    "    img_bordered = cv2.copyMakeBorder(img_resized, 4, 4, 4, 4, cv2.BORDER_CONSTANT, None, 0)\n",
    "    return img_bordered"
   ]
  },
  {
   "cell_type": "code",
   "execution_count": 56,
   "id": "southeast-essay",
   "metadata": {
    "scrolled": true
   },
   "outputs": [
    {
     "data": {
      "text/plain": [
       "True"
      ]
     },
     "execution_count": 56,
     "metadata": {},
     "output_type": "execute_result"
    }
   ],
   "source": [
    "zero_prep = mnist_size(zero)\n",
    "cv2.imwrite('./img_prep/zero.jpg', zero_prep)"
   ]
  },
  {
   "cell_type": "code",
   "execution_count": 58,
   "id": "expired-boundary",
   "metadata": {},
   "outputs": [
    {
     "data": {
      "text/plain": [
       "True"
      ]
     },
     "execution_count": 58,
     "metadata": {},
     "output_type": "execute_result"
    }
   ],
   "source": [
    "one_prep = mnist_size(one)\n",
    "cv2.imwrite('./img_prep/one.jpg', one_prep)"
   ]
  },
  {
   "cell_type": "code",
   "execution_count": 59,
   "id": "collective-township",
   "metadata": {},
   "outputs": [
    {
     "data": {
      "text/plain": [
       "True"
      ]
     },
     "execution_count": 59,
     "metadata": {},
     "output_type": "execute_result"
    }
   ],
   "source": [
    "two_prep = mnist_size(two)\n",
    "cv2.imwrite('./img_prep/two.jpg', two_prep)"
   ]
  },
  {
   "cell_type": "code",
   "execution_count": 60,
   "id": "dominican-cradle",
   "metadata": {},
   "outputs": [
    {
     "data": {
      "text/plain": [
       "True"
      ]
     },
     "execution_count": 60,
     "metadata": {},
     "output_type": "execute_result"
    }
   ],
   "source": [
    "three_prep = mnist_size(three)\n",
    "cv2.imwrite('./img_prep/three.jpg', three_prep)"
   ]
  },
  {
   "cell_type": "code",
   "execution_count": 61,
   "id": "failing-industry",
   "metadata": {},
   "outputs": [
    {
     "data": {
      "text/plain": [
       "True"
      ]
     },
     "execution_count": 61,
     "metadata": {},
     "output_type": "execute_result"
    }
   ],
   "source": [
    "four_prep = mnist_size(four)\n",
    "cv2.imwrite('./img_prep/four.jpg', four_prep)"
   ]
  },
  {
   "cell_type": "code",
   "execution_count": 62,
   "id": "traditional-johnston",
   "metadata": {},
   "outputs": [
    {
     "data": {
      "text/plain": [
       "True"
      ]
     },
     "execution_count": 62,
     "metadata": {},
     "output_type": "execute_result"
    }
   ],
   "source": [
    "five_prep = mnist_size(five)\n",
    "cv2.imwrite('./img_prep/five.jpg', five_prep)"
   ]
  },
  {
   "cell_type": "code",
   "execution_count": 63,
   "id": "signal-miller",
   "metadata": {},
   "outputs": [
    {
     "data": {
      "text/plain": [
       "True"
      ]
     },
     "execution_count": 63,
     "metadata": {},
     "output_type": "execute_result"
    }
   ],
   "source": [
    "six_prep= mnist_size(six)\n",
    "cv2.imwrite('./img_prep/six.jpg', six_prep)"
   ]
  },
  {
   "cell_type": "code",
   "execution_count": 64,
   "id": "characteristic-yellow",
   "metadata": {},
   "outputs": [
    {
     "data": {
      "text/plain": [
       "True"
      ]
     },
     "execution_count": 64,
     "metadata": {},
     "output_type": "execute_result"
    }
   ],
   "source": [
    "seven_prep = mnist_size(seven)\n",
    "cv2.imwrite('./img_prep/seven.jpg', seven_prep)"
   ]
  },
  {
   "cell_type": "code",
   "execution_count": 65,
   "id": "direct-affiliation",
   "metadata": {},
   "outputs": [
    {
     "data": {
      "text/plain": [
       "True"
      ]
     },
     "execution_count": 65,
     "metadata": {},
     "output_type": "execute_result"
    }
   ],
   "source": [
    "eight_prep = mnist_size(eight)\n",
    "cv2.imwrite('./img_prep/eight.jpg', eight_prep)"
   ]
  },
  {
   "cell_type": "code",
   "execution_count": 66,
   "id": "suburban-scott",
   "metadata": {},
   "outputs": [
    {
     "data": {
      "text/plain": [
       "True"
      ]
     },
     "execution_count": 66,
     "metadata": {},
     "output_type": "execute_result"
    }
   ],
   "source": [
    "nine_prep = mnist_size(nine)\n",
    "cv2.imwrite('./img_prep/nine.jpg', nine_prep)"
   ]
  }
 ],
 "metadata": {
  "kernelspec": {
   "display_name": "Python 3",
   "language": "python",
   "name": "python3"
  },
  "language_info": {
   "codemirror_mode": {
    "name": "ipython",
    "version": 3
   },
   "file_extension": ".py",
   "mimetype": "text/x-python",
   "name": "python",
   "nbconvert_exporter": "python",
   "pygments_lexer": "ipython3",
   "version": "3.8.8"
  }
 },
 "nbformat": 4,
 "nbformat_minor": 5
}
