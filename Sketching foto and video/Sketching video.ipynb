{
 "cells": [
  {
   "cell_type": "code",
   "execution_count": 1,
   "id": "impressive-truck",
   "metadata": {},
   "outputs": [],
   "source": [
    "# import libraries\n",
    "\n",
    "import cv2"
   ]
  },
  {
   "cell_type": "code",
   "execution_count": 2,
   "id": "aggressive-proportion",
   "metadata": {},
   "outputs": [],
   "source": [
    "def video_sketching():\n",
    "    # create a video capture from the frontal webcam (0)\n",
    "    cap = cv2.VideoCapture(0)\n",
    "\n",
    "    # start a loop to keep checking the frame of the video\n",
    "    while(True): \n",
    "        ret, frame = cap.read()\n",
    "        img = frame.copy()\n",
    "        \n",
    "        # apply a GaussianBlur filter\n",
    "        img_blur = cv2.GaussianBlur(img, (3,3), 0)\n",
    "        \n",
    "        # Apply Canny to detect edges and line\n",
    "        sketch = cv2.Canny(img_blur, 50, 150)\n",
    "        \n",
    "        # Use a bitwise_not since Canny returns black background and white lines\n",
    "        sketch_not = cv2.bitwise_not(sketch) \n",
    "  \n",
    "        # displaying the video \n",
    "        cv2.imshow(\"Sketch\", sketch_not) \n",
    "\n",
    "        # defining the condition to close the video (press 'q')\n",
    "        key = cv2.waitKey(1) \n",
    "        if cv2.waitKey(30) & 0xFF == ord('q'):\n",
    "            break\n",
    "\n",
    "    # closing the window \n",
    "    cv2.destroyAllWindows() \n",
    "    cap.release()"
   ]
  },
  {
   "cell_type": "code",
   "execution_count": 4,
   "id": "august-caribbean",
   "metadata": {},
   "outputs": [],
   "source": [
    "video_sketching()"
   ]
  }
 ],
 "metadata": {
  "kernelspec": {
   "display_name": "Python 3",
   "language": "python",
   "name": "python3"
  },
  "language_info": {
   "codemirror_mode": {
    "name": "ipython",
    "version": 3
   },
   "file_extension": ".py",
   "mimetype": "text/x-python",
   "name": "python",
   "nbconvert_exporter": "python",
   "pygments_lexer": "ipython3",
   "version": "3.8.8"
  }
 },
 "nbformat": 4,
 "nbformat_minor": 5
}
