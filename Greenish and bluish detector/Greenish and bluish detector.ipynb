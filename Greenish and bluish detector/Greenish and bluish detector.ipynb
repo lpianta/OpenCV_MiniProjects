{
 "cells": [
  {
   "cell_type": "code",
   "execution_count": 1,
   "id": "hourly-creature",
   "metadata": {},
   "outputs": [],
   "source": [
    "# import libraries\n",
    "\n",
    "import cv2"
   ]
  },
  {
   "cell_type": "code",
   "execution_count": 2,
   "id": "growing-warner",
   "metadata": {},
   "outputs": [
    {
     "data": {
      "text/plain": [
       "-1"
      ]
     },
     "execution_count": 2,
     "metadata": {},
     "output_type": "execute_result"
    }
   ],
   "source": [
    "# create a video_capture from the frontal webcam of the computer (0)\n",
    "video = cv2.VideoCapture(0)\n",
    "\n",
    "# start a loop to keep checking the frame of the video\n",
    "while(video.isOpened()):\n",
    "    check, frame = video.read()\n",
    "    if frame is not None:\n",
    "        img = frame\n",
    "        \n",
    "        # convert the img to hsv to find the right value for the first mask\n",
    "        hsv_img = cv2.cvtColor(img, cv2.COLOR_BGR2HSV)\n",
    "        \n",
    "        # range for the first mask\n",
    "        lower_range1 = (50, 100, 0)\n",
    "        upper_range1 = (80, 350, 255)\n",
    "        \n",
    "        # creating the first mask\n",
    "        mask1 = cv2.inRange(hsv_img, lower_range1, upper_range1)\n",
    "        \n",
    "        # range for the second mask\n",
    "        lower_range2 = (100, 150, 0)\n",
    "        upper_range2 = (145, 350, 255)\n",
    "        \n",
    "        # creating the second mask\n",
    "        mask2 = cv2.inRange(hsv_img, lower_range2, upper_range2)\n",
    "        \n",
    "        # merge the mask with | (or), this way both mask work together\n",
    "        mask = (mask1 | mask2)\n",
    "        \n",
    "        # applying the mask\n",
    "        img[mask == 0] = [0,0,0]\n",
    "        \n",
    "        # showing the frame masked\n",
    "        cv2.imshow('frame',img)\n",
    "        \n",
    "        # defining the condition to close the video (press 'q')\n",
    "        if cv2.waitKey(30) & 0xFF == ord('q'):\n",
    "            break\n",
    "    else:\n",
    "        break\n",
    "\n",
    "\n",
    "video.release()\n",
    "cv2.waitKey(0)\n",
    "cv2.destroyAllWindows()\n",
    "cv2.waitKey(1)"
   ]
  }
 ],
 "metadata": {
  "kernelspec": {
   "display_name": "Python 3",
   "language": "python",
   "name": "python3"
  },
  "language_info": {
   "codemirror_mode": {
    "name": "ipython",
    "version": 3
   },
   "file_extension": ".py",
   "mimetype": "text/x-python",
   "name": "python",
   "nbconvert_exporter": "python",
   "pygments_lexer": "ipython3",
   "version": "3.8.8"
  }
 },
 "nbformat": 4,
 "nbformat_minor": 5
}
